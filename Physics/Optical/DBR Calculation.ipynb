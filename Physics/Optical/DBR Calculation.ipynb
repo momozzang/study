{
 "cells": [
  {
   "cell_type": "code",
   "execution_count": 1,
   "id": "81f49813",
   "metadata": {},
   "outputs": [
    {
     "name": "stdout",
     "output_type": "stream",
     "text": [
      "1.0\n"
     ]
    }
   ],
   "source": [
    "import numpy as np\n",
    "\n",
    "# Define the material parameters\n",
    "n_core = 3.5 # refractive index of the core layer\n",
    "n_clad = 3.0 # refractive index of the cladding layer\n",
    "\n",
    "# Define the layer parameters\n",
    "d_core = 500e-9 # thickness of the core layer\n",
    "d_clad = 1000e-9 # thickness of the cladding layer\n",
    "lambda_ = 1.55e-6 # wavelength of the light\n",
    "\n",
    "# Calculate the reflection coefficient\n",
    "r = (n_clad - n_core)/(n_clad + n_core)\n",
    "\n",
    "# Calculate the reflectivity of the DBR\n",
    "R = r**2\n",
    "\n",
    "# Calculate the phase shift between the core and cladding layers\n",
    "delta = 2*np.pi*(n_core - n_clad)*d_core/lambda_\n",
    "\n",
    "# Calculate the total reflectivity\n",
    "R_total = R**(2*np.floor(delta/(2*np.pi)))\n",
    "\n",
    "# Display the result\n",
    "print(R_total)"
   ]
  },
  {
   "cell_type": "markdown",
   "id": "ec9d9b94",
   "metadata": {},
   "source": [
    "이 코드는 코어와 클래드 층이 균일한 재료로 만들어진다고 가정하여 DBR의 단일 주기의 반사율을 계산한다. 코드는 코어층과 클래드층 사이의 반사계수와 두 층 사이의 위상이동을 계산하고, 이들 값을 이용하여 DBR의 총 반사율을 계산한다. 반사율은 코드의 출력으로 표시됩니다."
   ]
  },
  {
   "cell_type": "code",
   "execution_count": null,
   "id": "a65aa8b6",
   "metadata": {},
   "outputs": [],
   "source": []
  }
 ],
 "metadata": {
  "kernelspec": {
   "display_name": "Python 3 (ipykernel)",
   "language": "python",
   "name": "python3"
  },
  "language_info": {
   "codemirror_mode": {
    "name": "ipython",
    "version": 3
   },
   "file_extension": ".py",
   "mimetype": "text/x-python",
   "name": "python",
   "nbconvert_exporter": "python",
   "pygments_lexer": "ipython3",
   "version": "3.9.13"
  }
 },
 "nbformat": 4,
 "nbformat_minor": 5
}
