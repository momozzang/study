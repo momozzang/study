{
 "cells": [
  {
   "cell_type": "markdown",
   "id": "ef729a64",
   "metadata": {},
   "source": [
    "양자 역학 계산은 QTiP(Python의 Quantum Toolbox in Python), PySCF(Python-based Simulations of Chemistry Framework) 및 Psi4(애비니티오 양자 화학을 위한 오픈 소스 소프트웨어 제품군)와 같은 다양한 라이브러리를 사용하여 Python에서 구현할 수 있다. 다음은 QuTiP에서 단순 고조파 발진기에 대한 슈뢰딩거 방정식을 푸는 예제 코드이다:"
   ]
  },
  {
   "cell_type": "code",
   "execution_count": 1,
   "id": "936e1408",
   "metadata": {},
   "outputs": [],
   "source": [
    "import numpy as np\n",
    "from qutip import *\n",
    "\n",
    "# Define the Hamiltonian for a simple harmonic oscillator\n",
    "omega = 1.0  # frequency\n",
    "H = 0.5 * omega * qeye(2)\n",
    "\n",
    "# Find the eigenstates and eigenvalues of the Hamiltonian\n",
    "evals, ekets = H.eigenstates()\n",
    "\n",
    "# Initial state\n",
    "psi0 = ekets[0]\n",
    "\n",
    "# Time evolution\n",
    "tlist = np.linspace(0, 10, 100)\n",
    "result = mesolve(H, psi0, tlist, [], [])\n"
   ]
  },
  {
   "cell_type": "markdown",
   "id": "3fea1157",
   "metadata": {},
   "source": [
    "이 코드에서, 우리는 먼저 오메가의 주파수를 가진 단순 고조파 발진기에 대한 해밀턴을 정의한다. 그런 다음 고유 상태 함수를 사용하여 해밀턴의 고유 상태와 고유 값을 찾습니다. 마지막으로, 우리는 초기 상태 psi0를 고조파 발진기의 접지 상태로 정의하고, QuTiP 라이브러리의 메졸브 함수를 사용하여 시스템의 시간 진화를 계산한다. 시간 진화는 tlist에 의해 지정된 시간 간격에 대해 계산되고 결과는 결과 변수에 저장됩니다."
   ]
  },
  {
   "cell_type": "code",
   "execution_count": 5,
   "id": "75453a4f",
   "metadata": {},
   "outputs": [
    {
     "name": "stdout",
     "output_type": "stream",
     "text": [
      "      ∂                         \n",
      "1.0⋅ⅈ⋅──(ψ(x, t)) = H(x)⋅ψ(x, t)\n",
      "      ∂t                        \n"
     ]
    }
   ],
   "source": [
    "import sympy as sp\n",
    "\n",
    "x, t = sp.symbols('x t')\n",
    "# Define the wave function\n",
    "psi = sp.Function('psi')(x, t)\n",
    "\n",
    "# Define the Hamiltonian operator\n",
    "H = sp.Function('H')(x)\n",
    "\n",
    "# Define the time derivative of the wave function\n",
    "dpsi_dt = sp.diff(psi, t)\n",
    "\n",
    "# Apply the Schrödinger equation\n",
    "schrodinger_eq = sp.Eq(1j * sp.diff(psi, t), H * psi)\n",
    "\n",
    "# Display the Schrödinger equation\n",
    "sp.pprint(schrodinger_eq)\n"
   ]
  },
  {
   "cell_type": "code",
   "execution_count": null,
   "id": "d8fc8262",
   "metadata": {},
   "outputs": [],
   "source": []
  }
 ],
 "metadata": {
  "kernelspec": {
   "display_name": "Python 3 (ipykernel)",
   "language": "python",
   "name": "python3"
  },
  "language_info": {
   "codemirror_mode": {
    "name": "ipython",
    "version": 3
   },
   "file_extension": ".py",
   "mimetype": "text/x-python",
   "name": "python",
   "nbconvert_exporter": "python",
   "pygments_lexer": "ipython3",
   "version": "3.9.13"
  }
 },
 "nbformat": 4,
 "nbformat_minor": 5
}
