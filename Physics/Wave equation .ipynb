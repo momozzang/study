{
 "cells": [
  {
   "cell_type": "markdown",
   "id": "edd48905",
   "metadata": {},
   "source": [
    "파동 방정식은 주피터 노트북(ipynb)에서 수치 방법을 사용하여 모델링할 수 있습니다. 이를 위한 한 가지 방법은 파동 방정식을 이산화하고 유한한 차이를 사용하여 미분을 근사화하는 것이다. 파동 방정식을 푸는 일반적인 수치 방법은 유한 차분 방법이다. 다음은 코드에서 파동 방정식 계산을 구현하는 방법의 예입니다:"
   ]
  },
  {
   "cell_type": "code",
   "execution_count": 1,
   "id": "144552a8",
   "metadata": {},
   "outputs": [
    {
     "data": {
      "image/png": "[encoded data removed]",
      "text/plain": [
       "<Figure size 640x480 with 2 Axes>"
      ]
     },
     "metadata": {},
     "output_type": "display_data"
    }
   ],
   "source": [
    "import numpy as np\n",
    "import matplotlib.pyplot as plt\n",
    "\n",
    "def wave_equation(c, L, T, Nx, Nt):\n",
    "    dx = L / (Nx - 1)\n",
    "    dt = T / (Nt - 1)\n",
    "    x = np.linspace(0, L, Nx)\n",
    "    t = np.linspace(0, T, Nt)\n",
    "\n",
    "    u = np.zeros((Nx, Nt))\n",
    "    u[:, 0] = np.sin(np.pi * x)\n",
    "    \n",
    "    for n in range(1, Nt):\n",
    "        for i in range(1, Nx-1):\n",
    "            u[i, n] = u[i, n-1] + c**2 * dt**2 / dx**2 * (u[i+1, n-1] - 2 * u[i, n-1] + u[i-1, n-1])\n",
    "\n",
    "    return x, t, u\n",
    "\n",
    "L = 1\n",
    "T = 1\n",
    "c = 1\n",
    "Nx = 100\n",
    "Nt = 100\n",
    "x, t, u = wave_equation(c, L, T, Nx, Nt)\n",
    "\n",
    "plt.imshow(u, extent=[0, T, 0, L], origin='lower', aspect='auto')\n",
    "plt.xlabel('Time (t)')\n",
    "plt.ylabel('Position (x)')\n",
    "plt.title('Wave Equation Solution')\n",
    "plt.colorbar()\n",
    "plt.show()"
   ]
  },
  {
   "cell_type": "markdown",
   "id": "387d1beb",
   "metadata": {},
   "source": [
    "코드는 시공간 점의 그리드를 사용하여 파동 방정식을 해결하기 위해 유한 차분 방법을 구현한다. wave_equation 함수는 각각 파동 속도, 길이, 총 시간, 공간 점 수, 시점 수를 나타내는 매개 변수 c, L, T, Nt를 사용합니다. 공간, 시간 및 파동 방정식 솔루션을 각각 나타내는 배열 x, t, u를 반환합니다. 솔루션은 matplotlib 라이브러리의 imshow 함수를 사용하여 시각화됩니다."
   ]
  },
  {
   "cell_type": "code",
   "execution_count": 3,
   "id": "921c6cb9",
   "metadata": {},
   "outputs": [
    {
     "name": "stdout",
     "output_type": "stream",
     "text": [
      "Requirement already satisfied: SciPy in c:\\users\\qkrwj\\anaconda3\\lib\\site-packages (1.9.1)\n",
      "Requirement already satisfied: numpy<1.25.0,>=1.18.5 in c:\\users\\qkrwj\\anaconda3\\lib\\site-packages (from SciPy) (1.21.5)\n"
     ]
    }
   ],
   "source": [
    "!pip install SciPy"
   ]
  },
  {
   "cell_type": "markdown",
   "id": "aeb528ff",
   "metadata": {},
   "source": [
    "유도를 이용한 파동방정식은 유한차나 유한요소와 같은 수치적 방법을 이용하여 풀 수 있다. SciPy를 이용하여 유도로 파동방정식을 풀려면 유한차분법과 같은 수치해법을 구현하고 SciPy 라이브러리를 이용하여 방정식을 풀고 결과를 시각화하면 된다"
   ]
  },
  {
   "cell_type": "code",
   "execution_count": 4,
   "id": "34e75d31",
   "metadata": {},
   "outputs": [],
   "source": [
    "import numpy as np\n",
    "from scipy.sparse import diags\n",
    "from scipy.sparse.linalg import spsolve\n",
    "\n",
    "def wave_equation_induction_solver(c, L, T, Nx, Nt, I, V, f):\n",
    "    x = np.linspace(0, L, Nx+1)\n",
    "    t = np.linspace(0, T, Nt+1)\n",
    "    dx = x[1] - x[0]\n",
    "    dt = t[1] - t[0]\n",
    "    alpha = c**2 * dt**2 / dx**2\n",
    "\n",
    "    A = diags([-alpha/2, 1 + alpha, -alpha/2], [-1, 0, 1], shape=(Nx-1, Nx-1))\n",
    "    u = np.zeros((Nx+1, Nt+1))\n",
    "    u[:,0] = I(x)\n",
    "    u[0,:] = V(t)\n",
    "    u[-1,:] = V(t)\n",
    "\n",
    "    for n in range(0, Nt):\n",
    "        b = u[1:-1,n] + alpha/2 * (u[:-2,n] - 2*u[1:-1,n] + u[2:,n]) + dt * f(x[1:-1], t[n])\n",
    "        u[1:-1,n+1] = spsolve(A, b)\n",
    "\n",
    "    return x, t, u"
   ]
  },
  {
   "cell_type": "markdown",
   "id": "6db59ffc",
   "metadata": {},
   "source": [
    "이 코드는 NumPy의 linspace 함수를 사용하여 각각 x와 t의 이산화된 공간과 시간의 배열을 만든다. scipy.sparse 라이브러리의 diags 함수는 공간 미분의 유한 차이 근사치를 나타내는 삼각 행렬 A를 만드는 데 사용됩니다. scipy.sparse.linalg 라이브러리의 spolve 함수는 각 시간 단계에서 A와 b로 표현되는 선형 시스템을 푸는 데 사용된다.\n",
    "\n",
    "초기 조건 I, 경계 조건 V 및 강제 조건 f에 대한 함수를 정의하고 이를 wave_equation_induction_solver 함수에 인수로 전달하여 이 솔버를 사용할 수 있습니다."
   ]
  },
  {
   "cell_type": "code",
   "execution_count": null,
   "id": "03968adb",
   "metadata": {},
   "outputs": [],
   "source": []
  }
 ],
 "metadata": {
  "kernelspec": {
   "display_name": "Python 3 (ipykernel)",
   "language": "python",
   "name": "python3"
  },
  "language_info": {
   "codemirror_mode": {
    "name": "ipython",
    "version": 3
   },
   "file_extension": ".py",
   "mimetype": "text/x-python",
   "name": "python",
   "nbconvert_exporter": "python",
   "pygments_lexer": "ipython3",
   "version": "3.9.13"
  }
 },
 "nbformat": 4,
 "nbformat_minor": 5
}
